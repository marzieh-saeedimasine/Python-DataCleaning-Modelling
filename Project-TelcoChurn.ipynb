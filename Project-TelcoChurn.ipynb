{
 "cells": [
  {
   "cell_type": "code",
   "execution_count": null,
   "id": "f85b6e5d",
   "metadata": {},
   "outputs": [],
   "source": [
    "''' Overview of the Telco Customer Churn modelling\n",
    "Downlaod wind power dataset form kaggle:\n",
    "https://www.kaggle.com/datasets/blastchar/telco-customer-churn/data\n",
    "-- Exploratory Data Analysis (EDA), data cleaning and transformation was performed, \n",
    "-- imblanced dataset was handelled with under sampling, oversampling and SMOTETomek techniques\n",
    "-- binary classification was implemented with ANN method\n",
    "'''"
   ]
  },
  {
   "cell_type": "code",
   "execution_count": 45,
   "id": "e863179c-b96c-492a-bdab-a643788ea22e",
   "metadata": {},
   "outputs": [],
   "source": [
    "import numpy as np\n",
    "import pandas as pd\n",
    "import seaborn as sns\n",
    "import matplotlib.pyplot as plt\n",
    "from sklearn.model_selection import train_test_split\n",
    "from sklearn.metrics import confusion_matrix, classification_report\n",
    "from sklearn.preprocessing import MinMaxScaler, RobustScaler\n",
    "from imblearn.combine import SMOTETomek\n",
    "import tensorflow as tf\n",
    "from tensorflow import keras\n",
    "from keras.models import Sequential\n",
    "from keras.layers import Flatten, Dense"
   ]
  },
  {
   "cell_type": "code",
   "execution_count": 33,
   "id": "5a12a2d1-dcc8-4dec-9517-484441c5f146",
   "metadata": {},
   "outputs": [
    {
     "data": {
      "text/html": [
       "<div>\n",
       "<style scoped>\n",
       "    .dataframe tbody tr th:only-of-type {\n",
       "        vertical-align: middle;\n",
       "    }\n",
       "\n",
       "    .dataframe tbody tr th {\n",
       "        vertical-align: top;\n",
       "    }\n",
       "\n",
       "    .dataframe thead th {\n",
       "        text-align: right;\n",
       "    }\n",
       "</style>\n",
       "<table border=\"1\" class=\"dataframe\">\n",
       "  <thead>\n",
       "    <tr style=\"text-align: right;\">\n",
       "      <th></th>\n",
       "      <th>customerID</th>\n",
       "      <th>gender</th>\n",
       "      <th>SeniorCitizen</th>\n",
       "      <th>Partner</th>\n",
       "      <th>Dependents</th>\n",
       "      <th>tenure</th>\n",
       "      <th>PhoneService</th>\n",
       "      <th>MultipleLines</th>\n",
       "      <th>InternetService</th>\n",
       "      <th>OnlineSecurity</th>\n",
       "      <th>...</th>\n",
       "      <th>DeviceProtection</th>\n",
       "      <th>TechSupport</th>\n",
       "      <th>StreamingTV</th>\n",
       "      <th>StreamingMovies</th>\n",
       "      <th>Contract</th>\n",
       "      <th>PaperlessBilling</th>\n",
       "      <th>PaymentMethod</th>\n",
       "      <th>MonthlyCharges</th>\n",
       "      <th>TotalCharges</th>\n",
       "      <th>Churn</th>\n",
       "    </tr>\n",
       "  </thead>\n",
       "  <tbody>\n",
       "    <tr>\n",
       "      <th>0</th>\n",
       "      <td>7590-VHVEG</td>\n",
       "      <td>Female</td>\n",
       "      <td>0</td>\n",
       "      <td>Yes</td>\n",
       "      <td>No</td>\n",
       "      <td>1</td>\n",
       "      <td>No</td>\n",
       "      <td>No phone service</td>\n",
       "      <td>DSL</td>\n",
       "      <td>No</td>\n",
       "      <td>...</td>\n",
       "      <td>No</td>\n",
       "      <td>No</td>\n",
       "      <td>No</td>\n",
       "      <td>No</td>\n",
       "      <td>Month-to-month</td>\n",
       "      <td>Yes</td>\n",
       "      <td>Electronic check</td>\n",
       "      <td>29.85</td>\n",
       "      <td>29.85</td>\n",
       "      <td>No</td>\n",
       "    </tr>\n",
       "    <tr>\n",
       "      <th>1</th>\n",
       "      <td>5575-GNVDE</td>\n",
       "      <td>Male</td>\n",
       "      <td>0</td>\n",
       "      <td>No</td>\n",
       "      <td>No</td>\n",
       "      <td>34</td>\n",
       "      <td>Yes</td>\n",
       "      <td>No</td>\n",
       "      <td>DSL</td>\n",
       "      <td>Yes</td>\n",
       "      <td>...</td>\n",
       "      <td>Yes</td>\n",
       "      <td>No</td>\n",
       "      <td>No</td>\n",
       "      <td>No</td>\n",
       "      <td>One year</td>\n",
       "      <td>No</td>\n",
       "      <td>Mailed check</td>\n",
       "      <td>56.95</td>\n",
       "      <td>1889.5</td>\n",
       "      <td>No</td>\n",
       "    </tr>\n",
       "    <tr>\n",
       "      <th>2</th>\n",
       "      <td>3668-QPYBK</td>\n",
       "      <td>Male</td>\n",
       "      <td>0</td>\n",
       "      <td>No</td>\n",
       "      <td>No</td>\n",
       "      <td>2</td>\n",
       "      <td>Yes</td>\n",
       "      <td>No</td>\n",
       "      <td>DSL</td>\n",
       "      <td>Yes</td>\n",
       "      <td>...</td>\n",
       "      <td>No</td>\n",
       "      <td>No</td>\n",
       "      <td>No</td>\n",
       "      <td>No</td>\n",
       "      <td>Month-to-month</td>\n",
       "      <td>Yes</td>\n",
       "      <td>Mailed check</td>\n",
       "      <td>53.85</td>\n",
       "      <td>108.15</td>\n",
       "      <td>Yes</td>\n",
       "    </tr>\n",
       "    <tr>\n",
       "      <th>3</th>\n",
       "      <td>7795-CFOCW</td>\n",
       "      <td>Male</td>\n",
       "      <td>0</td>\n",
       "      <td>No</td>\n",
       "      <td>No</td>\n",
       "      <td>45</td>\n",
       "      <td>No</td>\n",
       "      <td>No phone service</td>\n",
       "      <td>DSL</td>\n",
       "      <td>Yes</td>\n",
       "      <td>...</td>\n",
       "      <td>Yes</td>\n",
       "      <td>Yes</td>\n",
       "      <td>No</td>\n",
       "      <td>No</td>\n",
       "      <td>One year</td>\n",
       "      <td>No</td>\n",
       "      <td>Bank transfer (automatic)</td>\n",
       "      <td>42.30</td>\n",
       "      <td>1840.75</td>\n",
       "      <td>No</td>\n",
       "    </tr>\n",
       "    <tr>\n",
       "      <th>4</th>\n",
       "      <td>9237-HQITU</td>\n",
       "      <td>Female</td>\n",
       "      <td>0</td>\n",
       "      <td>No</td>\n",
       "      <td>No</td>\n",
       "      <td>2</td>\n",
       "      <td>Yes</td>\n",
       "      <td>No</td>\n",
       "      <td>Fiber optic</td>\n",
       "      <td>No</td>\n",
       "      <td>...</td>\n",
       "      <td>No</td>\n",
       "      <td>No</td>\n",
       "      <td>No</td>\n",
       "      <td>No</td>\n",
       "      <td>Month-to-month</td>\n",
       "      <td>Yes</td>\n",
       "      <td>Electronic check</td>\n",
       "      <td>70.70</td>\n",
       "      <td>151.65</td>\n",
       "      <td>Yes</td>\n",
       "    </tr>\n",
       "  </tbody>\n",
       "</table>\n",
       "<p>5 rows × 21 columns</p>\n",
       "</div>"
      ],
      "text/plain": [
       "   customerID  gender  SeniorCitizen Partner Dependents  tenure PhoneService  \\\n",
       "0  7590-VHVEG  Female              0     Yes         No       1           No   \n",
       "1  5575-GNVDE    Male              0      No         No      34          Yes   \n",
       "2  3668-QPYBK    Male              0      No         No       2          Yes   \n",
       "3  7795-CFOCW    Male              0      No         No      45           No   \n",
       "4  9237-HQITU  Female              0      No         No       2          Yes   \n",
       "\n",
       "      MultipleLines InternetService OnlineSecurity  ... DeviceProtection  \\\n",
       "0  No phone service             DSL             No  ...               No   \n",
       "1                No             DSL            Yes  ...              Yes   \n",
       "2                No             DSL            Yes  ...               No   \n",
       "3  No phone service             DSL            Yes  ...              Yes   \n",
       "4                No     Fiber optic             No  ...               No   \n",
       "\n",
       "  TechSupport StreamingTV StreamingMovies        Contract PaperlessBilling  \\\n",
       "0          No          No              No  Month-to-month              Yes   \n",
       "1          No          No              No        One year               No   \n",
       "2          No          No              No  Month-to-month              Yes   \n",
       "3         Yes          No              No        One year               No   \n",
       "4          No          No              No  Month-to-month              Yes   \n",
       "\n",
       "               PaymentMethod MonthlyCharges  TotalCharges Churn  \n",
       "0           Electronic check          29.85         29.85    No  \n",
       "1               Mailed check          56.95        1889.5    No  \n",
       "2               Mailed check          53.85        108.15   Yes  \n",
       "3  Bank transfer (automatic)          42.30       1840.75    No  \n",
       "4           Electronic check          70.70        151.65   Yes  \n",
       "\n",
       "[5 rows x 21 columns]"
      ]
     },
     "execution_count": 33,
     "metadata": {},
     "output_type": "execute_result"
    }
   ],
   "source": [
    "df= pd.DataFrame(pd.read_csv(\"WA_Fn-UseC_-Telco-Customer-Churn.csv\"))\n",
    "df.head()"
   ]
  },
  {
   "cell_type": "markdown",
   "id": "0bda9a06",
   "metadata": {},
   "source": [
    "# EDA and Data Cleaning"
   ]
  },
  {
   "cell_type": "code",
   "execution_count": 34,
   "id": "11e372e5",
   "metadata": {},
   "outputs": [
    {
     "name": "stdout",
     "output_type": "stream",
     "text": [
      "customerID ['7590-VHVEG' '5575-GNVDE' '3668-QPYBK' ... '4801-JZAZL' '8361-LTMKD'\n",
      " '3186-AJIEK']\n",
      "gender ['Female' 'Male']\n",
      "SeniorCitizen [0 1]\n",
      "Partner ['Yes' 'No']\n",
      "Dependents ['No' 'Yes']\n",
      "tenure [ 1 34  2 45  8 22 10 28 62 13 16 58 49 25 69 52 71 21 12 30 47 72 17 27\n",
      "  5 46 11 70 63 43 15 60 18 66  9  3 31 50 64 56  7 42 35 48 29 65 38 68\n",
      " 32 55 37 36 41  6  4 33 67 23 57 61 14 20 53 40 59 24 44 19 54 51 26  0\n",
      " 39]\n",
      "PhoneService ['No' 'Yes']\n",
      "MultipleLines ['No phone service' 'No' 'Yes']\n",
      "InternetService ['DSL' 'Fiber optic' 'No']\n",
      "OnlineSecurity ['No' 'Yes' 'No internet service']\n",
      "OnlineBackup ['Yes' 'No' 'No internet service']\n",
      "DeviceProtection ['No' 'Yes' 'No internet service']\n",
      "TechSupport ['No' 'Yes' 'No internet service']\n",
      "StreamingTV ['No' 'Yes' 'No internet service']\n",
      "StreamingMovies ['No' 'Yes' 'No internet service']\n",
      "Contract ['Month-to-month' 'One year' 'Two year']\n",
      "PaperlessBilling ['Yes' 'No']\n",
      "PaymentMethod ['Electronic check' 'Mailed check' 'Bank transfer (automatic)'\n",
      " 'Credit card (automatic)']\n",
      "MonthlyCharges [29.85 56.95 53.85 ... 63.1  44.2  78.7 ]\n",
      "TotalCharges ['29.85' '1889.5' '108.15' ... '346.45' '306.6' '6844.5']\n",
      "Churn ['No' 'Yes']\n"
     ]
    }
   ],
   "source": [
    "for col in df.columns:\n",
    "    print(col, df[col].unique())"
   ]
  },
  {
   "cell_type": "code",
   "execution_count": 35,
   "id": "20b19f2b-03e6-4530-bd76-50fbb0727988",
   "metadata": {},
   "outputs": [],
   "source": [
    "#drop customerID\n",
    "df.drop(\"customerID\", axis=1, inplace=True)\n",
    "\n",
    "#TotalCharges to numeric\n",
    "df=df[df[\"TotalCharges\"]!=' ']\n",
    "df[\"TotalCharges\"]=pd.to_numeric(df[\"TotalCharges\"])\n",
    "\n",
    "# make 0,1 for some column\n",
    "df[\"gender\"]=df[\"gender\"].map({'Female': 0 ,'Male': 1})\n",
    "df.replace(['No phone service','No internet service'],\"No\", inplace=True)\n",
    "\n",
    "yes_no_col=[\"Partner\",\"Dependents\",\"PhoneService\",\"MultipleLines\",\"OnlineSecurity\",\n",
    "           \"OnlineBackup\",\"DeviceProtection\",\"TechSupport\",\"StreamingTV\",\n",
    "           \"StreamingMovies\",\"PaperlessBilling\",\"Churn\"]\n",
    "\n",
    "for i in yes_no_col:\n",
    "    df[i]=df[i].map({'Yes': 0 ,'No': 1})\n",
    "\n",
    "for i in yes_no_col:\n",
    "    df[i].replace({'Yes': 0 ,'No': 1}, inplace=True)\n",
    "\n",
    "\n",
    "# get_dummies for some columns\n",
    "df=pd.get_dummies(df,[\"InternetService\",\"Contract\",\"PaymentMethod\"], dtype=float)\n",
    "\n",
    "#scale for some columns\n",
    "scale_col=[\"tenure\",\"MonthlyCharges\",\"TotalCharges\"]\n",
    "scaler=MinMaxScaler()\n",
    "df[scale_col]=scaler.fit_transform(df[scale_col])"
   ]
  },
  {
   "cell_type": "code",
   "execution_count": 36,
   "id": "144ed866-7f29-4e66-83d3-4700fc92f2d2",
   "metadata": {},
   "outputs": [
    {
     "data": {
      "text/plain": [
       "Churn\n",
       "1    5163\n",
       "0    1869\n",
       "Name: count, dtype: int64"
      ]
     },
     "execution_count": 36,
     "metadata": {},
     "output_type": "execute_result"
    }
   ],
   "source": [
    "df[\"Churn\"].value_counts()"
   ]
  },
  {
   "cell_type": "markdown",
   "id": "e84e4ff4",
   "metadata": {},
   "source": [
    "# Handdel imblanced dataset (under sampling, oversampling and SMOTETomeksmt methods)"
   ]
  },
  {
   "cell_type": "code",
   "execution_count": 25,
   "id": "f4daa08f-a376-40af-9071-e7277e6b8392",
   "metadata": {},
   "outputs": [],
   "source": [
    "Churn_class_0=df[df[\"Churn\"]==0] \n",
    "Churn_class_1=df[df[\"Churn\"]==1] \n",
    "Churn_class_1_balanced=Churn_class_1.sample(Churn_class_0.shape[0])\n",
    "df_balanced=pd.concat([Churn_class_0,Churn_class_1_balanced], axis=0)"
   ]
  },
  {
   "cell_type": "code",
   "execution_count": 37,
   "id": "186bf1c9",
   "metadata": {},
   "outputs": [
    {
     "name": "stderr",
     "output_type": "stream",
     "text": [
      "/usr/local/lib/python3.11/site-packages/imblearn/over_sampling/_smote/base.py:370: FutureWarning: The parameter `n_jobs` has been deprecated in 0.10 and will be removed in 0.12. You can pass an nearest neighbors estimator where `n_jobs` is already set instead.\n",
      "  warnings.warn(\n"
     ]
    }
   ],
   "source": [
    "X=df.drop('Churn', axis=1)\n",
    "y=df['Churn']\n",
    "smt = SMOTETomek(random_state=42, sampling_strategy='minority', n_jobs=-1)\n",
    "X_blanced, y_blanced = smt.fit_resample(X, y)"
   ]
  },
  {
   "cell_type": "code",
   "execution_count": 38,
   "id": "08cab230-e46c-4520-9aff-6f2f678719ab",
   "metadata": {},
   "outputs": [],
   "source": [
    "xtrain,xtext,ytrain,ytest=train_test_split(X_blanced, y_blanced,test_size=0.25, random_state=100,)"
   ]
  },
  {
   "cell_type": "code",
   "execution_count": 39,
   "id": "6f703150-d94e-44d1-a76d-d1fa3c7426cb",
   "metadata": {},
   "outputs": [
    {
     "name": "stdout",
     "output_type": "stream",
     "text": [
      "Epoch 1/100\n",
      "229/229 [==============================] - 1s 2ms/step - loss: 0.5402 - accuracy: 0.7514\n",
      "Epoch 2/100\n",
      "229/229 [==============================] - 0s 2ms/step - loss: 0.4485 - accuracy: 0.7871\n",
      "Epoch 3/100\n",
      "229/229 [==============================] - 1s 2ms/step - loss: 0.4406 - accuracy: 0.7875\n",
      "Epoch 4/100\n",
      "229/229 [==============================] - 0s 2ms/step - loss: 0.4351 - accuracy: 0.7922\n",
      "Epoch 5/100\n",
      "229/229 [==============================] - 0s 2ms/step - loss: 0.4315 - accuracy: 0.7971\n",
      "Epoch 6/100\n",
      "229/229 [==============================] - 0s 2ms/step - loss: 0.4266 - accuracy: 0.7982\n",
      "Epoch 7/100\n",
      "229/229 [==============================] - 0s 2ms/step - loss: 0.4251 - accuracy: 0.8015\n",
      "Epoch 8/100\n",
      "229/229 [==============================] - 0s 2ms/step - loss: 0.4230 - accuracy: 0.8020\n",
      "Epoch 9/100\n",
      "229/229 [==============================] - 0s 2ms/step - loss: 0.4192 - accuracy: 0.8022\n",
      "Epoch 10/100\n",
      "229/229 [==============================] - 1s 3ms/step - loss: 0.4168 - accuracy: 0.8061\n",
      "Epoch 11/100\n",
      "229/229 [==============================] - 1s 4ms/step - loss: 0.4159 - accuracy: 0.8048\n",
      "Epoch 12/100\n",
      "229/229 [==============================] - 0s 2ms/step - loss: 0.4135 - accuracy: 0.8068\n",
      "Epoch 13/100\n",
      "229/229 [==============================] - 0s 2ms/step - loss: 0.4127 - accuracy: 0.8069\n",
      "Epoch 14/100\n",
      "229/229 [==============================] - 1s 2ms/step - loss: 0.4124 - accuracy: 0.8059\n",
      "Epoch 15/100\n",
      "229/229 [==============================] - 0s 2ms/step - loss: 0.4076 - accuracy: 0.8090\n",
      "Epoch 16/100\n",
      "229/229 [==============================] - 0s 2ms/step - loss: 0.4086 - accuracy: 0.8065\n",
      "Epoch 17/100\n",
      "229/229 [==============================] - 0s 2ms/step - loss: 0.4065 - accuracy: 0.8082\n",
      "Epoch 18/100\n",
      "229/229 [==============================] - 0s 2ms/step - loss: 0.4047 - accuracy: 0.8109\n",
      "Epoch 19/100\n",
      "229/229 [==============================] - 0s 2ms/step - loss: 0.4042 - accuracy: 0.8090\n",
      "Epoch 20/100\n",
      "229/229 [==============================] - 1s 2ms/step - loss: 0.4025 - accuracy: 0.8123\n",
      "Epoch 21/100\n",
      "229/229 [==============================] - 0s 2ms/step - loss: 0.4012 - accuracy: 0.8098\n",
      "Epoch 22/100\n",
      "229/229 [==============================] - 0s 2ms/step - loss: 0.3996 - accuracy: 0.8142\n",
      "Epoch 23/100\n",
      "229/229 [==============================] - 0s 2ms/step - loss: 0.3975 - accuracy: 0.8145\n",
      "Epoch 24/100\n",
      "229/229 [==============================] - 0s 2ms/step - loss: 0.3967 - accuracy: 0.8153\n",
      "Epoch 25/100\n",
      "229/229 [==============================] - 0s 2ms/step - loss: 0.3958 - accuracy: 0.8151\n",
      "Epoch 26/100\n",
      "229/229 [==============================] - 0s 2ms/step - loss: 0.3938 - accuracy: 0.8168\n",
      "Epoch 27/100\n",
      "229/229 [==============================] - 1s 2ms/step - loss: 0.3934 - accuracy: 0.8153\n",
      "Epoch 28/100\n",
      "229/229 [==============================] - 0s 2ms/step - loss: 0.3922 - accuracy: 0.8184\n",
      "Epoch 29/100\n",
      "229/229 [==============================] - 1s 3ms/step - loss: 0.3915 - accuracy: 0.8184\n",
      "Epoch 30/100\n",
      "229/229 [==============================] - 1s 2ms/step - loss: 0.3892 - accuracy: 0.8202\n",
      "Epoch 31/100\n",
      "229/229 [==============================] - 1s 3ms/step - loss: 0.3875 - accuracy: 0.8195\n",
      "Epoch 32/100\n",
      "229/229 [==============================] - 0s 2ms/step - loss: 0.3876 - accuracy: 0.8240\n",
      "Epoch 33/100\n",
      "229/229 [==============================] - 0s 2ms/step - loss: 0.3866 - accuracy: 0.8214\n",
      "Epoch 34/100\n",
      "229/229 [==============================] - 0s 2ms/step - loss: 0.3840 - accuracy: 0.8227\n",
      "Epoch 35/100\n",
      "229/229 [==============================] - 0s 2ms/step - loss: 0.3831 - accuracy: 0.8246\n",
      "Epoch 36/100\n",
      "229/229 [==============================] - 0s 1ms/step - loss: 0.3826 - accuracy: 0.8258\n",
      "Epoch 37/100\n",
      "229/229 [==============================] - 0s 1ms/step - loss: 0.3824 - accuracy: 0.8246\n",
      "Epoch 38/100\n",
      "229/229 [==============================] - 0s 1ms/step - loss: 0.3801 - accuracy: 0.8261\n",
      "Epoch 39/100\n",
      "229/229 [==============================] - 0s 2ms/step - loss: 0.3786 - accuracy: 0.8275\n",
      "Epoch 40/100\n",
      "229/229 [==============================] - 1s 2ms/step - loss: 0.3771 - accuracy: 0.8303\n",
      "Epoch 41/100\n",
      "229/229 [==============================] - 0s 2ms/step - loss: 0.3757 - accuracy: 0.8292\n",
      "Epoch 42/100\n",
      "229/229 [==============================] - 0s 2ms/step - loss: 0.3759 - accuracy: 0.8324\n",
      "Epoch 43/100\n",
      "229/229 [==============================] - 0s 2ms/step - loss: 0.3753 - accuracy: 0.8311\n",
      "Epoch 44/100\n",
      "229/229 [==============================] - 1s 2ms/step - loss: 0.3722 - accuracy: 0.8358\n",
      "Epoch 45/100\n",
      "229/229 [==============================] - 0s 2ms/step - loss: 0.3739 - accuracy: 0.8326\n",
      "Epoch 46/100\n",
      "229/229 [==============================] - 0s 1ms/step - loss: 0.3733 - accuracy: 0.8337\n",
      "Epoch 47/100\n",
      "229/229 [==============================] - 0s 1ms/step - loss: 0.3696 - accuracy: 0.8340\n",
      "Epoch 48/100\n",
      "229/229 [==============================] - 0s 1ms/step - loss: 0.3689 - accuracy: 0.8333\n",
      "Epoch 49/100\n",
      "229/229 [==============================] - 0s 1ms/step - loss: 0.3667 - accuracy: 0.8373\n",
      "Epoch 50/100\n",
      "229/229 [==============================] - 0s 2ms/step - loss: 0.3671 - accuracy: 0.8395\n",
      "Epoch 51/100\n",
      "229/229 [==============================] - 0s 1ms/step - loss: 0.3655 - accuracy: 0.8373\n",
      "Epoch 52/100\n",
      "229/229 [==============================] - 0s 1ms/step - loss: 0.3639 - accuracy: 0.8370\n",
      "Epoch 53/100\n",
      "229/229 [==============================] - 0s 2ms/step - loss: 0.3640 - accuracy: 0.8389\n",
      "Epoch 54/100\n",
      "229/229 [==============================] - 1s 3ms/step - loss: 0.3625 - accuracy: 0.8381\n",
      "Epoch 55/100\n",
      "229/229 [==============================] - 1s 2ms/step - loss: 0.3617 - accuracy: 0.8369\n",
      "Epoch 56/100\n",
      "229/229 [==============================] - 0s 2ms/step - loss: 0.3599 - accuracy: 0.8426\n",
      "Epoch 57/100\n",
      "229/229 [==============================] - 0s 1ms/step - loss: 0.3595 - accuracy: 0.8396\n",
      "Epoch 58/100\n",
      "229/229 [==============================] - 0s 1ms/step - loss: 0.3593 - accuracy: 0.8381\n",
      "Epoch 59/100\n",
      "229/229 [==============================] - 1s 3ms/step - loss: 0.3590 - accuracy: 0.8402\n",
      "Epoch 60/100\n",
      "229/229 [==============================] - 0s 2ms/step - loss: 0.3558 - accuracy: 0.8462\n",
      "Epoch 61/100\n",
      "229/229 [==============================] - 0s 2ms/step - loss: 0.3555 - accuracy: 0.8463\n",
      "Epoch 62/100\n",
      "229/229 [==============================] - 0s 1ms/step - loss: 0.3553 - accuracy: 0.8448\n",
      "Epoch 63/100\n",
      "229/229 [==============================] - 1s 3ms/step - loss: 0.3534 - accuracy: 0.8460\n",
      "Epoch 64/100\n",
      "229/229 [==============================] - 1s 3ms/step - loss: 0.3527 - accuracy: 0.8452\n",
      "Epoch 65/100\n",
      "229/229 [==============================] - 0s 2ms/step - loss: 0.3520 - accuracy: 0.8480\n",
      "Epoch 66/100\n",
      "229/229 [==============================] - 0s 2ms/step - loss: 0.3508 - accuracy: 0.8473\n",
      "Epoch 67/100\n",
      "229/229 [==============================] - 0s 2ms/step - loss: 0.3513 - accuracy: 0.8496\n",
      "Epoch 68/100\n",
      "229/229 [==============================] - 0s 1ms/step - loss: 0.3483 - accuracy: 0.8478\n",
      "Epoch 69/100\n",
      "229/229 [==============================] - 1s 2ms/step - loss: 0.3490 - accuracy: 0.8462\n",
      "Epoch 70/100\n",
      "229/229 [==============================] - 1s 2ms/step - loss: 0.3471 - accuracy: 0.8489\n",
      "Epoch 71/100\n",
      "229/229 [==============================] - 0s 2ms/step - loss: 0.3470 - accuracy: 0.8481\n",
      "Epoch 72/100\n",
      "229/229 [==============================] - 0s 1ms/step - loss: 0.3445 - accuracy: 0.8493\n",
      "Epoch 73/100\n",
      "229/229 [==============================] - 0s 1ms/step - loss: 0.3462 - accuracy: 0.8495\n",
      "Epoch 74/100\n",
      "229/229 [==============================] - 0s 2ms/step - loss: 0.3426 - accuracy: 0.8502\n",
      "Epoch 75/100\n",
      "229/229 [==============================] - 0s 1ms/step - loss: 0.3421 - accuracy: 0.8495\n",
      "Epoch 76/100\n",
      "229/229 [==============================] - 0s 1ms/step - loss: 0.3425 - accuracy: 0.8500\n",
      "Epoch 77/100\n",
      "229/229 [==============================] - 0s 1ms/step - loss: 0.3406 - accuracy: 0.8527\n",
      "Epoch 78/100\n",
      "229/229 [==============================] - 0s 1ms/step - loss: 0.3405 - accuracy: 0.8540\n",
      "Epoch 79/100\n",
      "229/229 [==============================] - 0s 2ms/step - loss: 0.3396 - accuracy: 0.8502\n",
      "Epoch 80/100\n",
      "229/229 [==============================] - 1s 2ms/step - loss: 0.3382 - accuracy: 0.8536\n",
      "Epoch 81/100\n",
      "229/229 [==============================] - 0s 2ms/step - loss: 0.3392 - accuracy: 0.8536\n",
      "Epoch 82/100\n",
      "229/229 [==============================] - 0s 2ms/step - loss: 0.3375 - accuracy: 0.8521\n",
      "Epoch 83/100\n",
      "229/229 [==============================] - 1s 2ms/step - loss: 0.3371 - accuracy: 0.8530\n",
      "Epoch 84/100\n",
      "229/229 [==============================] - 0s 2ms/step - loss: 0.3358 - accuracy: 0.8564\n",
      "Epoch 85/100\n",
      "229/229 [==============================] - 0s 1ms/step - loss: 0.3356 - accuracy: 0.8518\n",
      "Epoch 86/100\n",
      "229/229 [==============================] - 0s 2ms/step - loss: 0.3329 - accuracy: 0.8581\n",
      "Epoch 87/100\n",
      "229/229 [==============================] - 0s 1ms/step - loss: 0.3345 - accuracy: 0.8541\n",
      "Epoch 88/100\n",
      "229/229 [==============================] - 0s 2ms/step - loss: 0.3332 - accuracy: 0.8560\n",
      "Epoch 89/100\n",
      "229/229 [==============================] - 0s 2ms/step - loss: 0.3331 - accuracy: 0.8540\n",
      "Epoch 90/100\n",
      "229/229 [==============================] - 0s 2ms/step - loss: 0.3328 - accuracy: 0.8548\n",
      "Epoch 91/100\n",
      "229/229 [==============================] - 0s 1ms/step - loss: 0.3345 - accuracy: 0.8548\n",
      "Epoch 92/100\n",
      "229/229 [==============================] - 0s 1ms/step - loss: 0.3308 - accuracy: 0.8568\n",
      "Epoch 93/100\n",
      "229/229 [==============================] - 0s 1ms/step - loss: 0.3304 - accuracy: 0.8559\n",
      "Epoch 94/100\n",
      "229/229 [==============================] - 0s 1ms/step - loss: 0.3286 - accuracy: 0.8560\n",
      "Epoch 95/100\n",
      "229/229 [==============================] - 0s 1ms/step - loss: 0.3292 - accuracy: 0.8573\n",
      "Epoch 96/100\n",
      "229/229 [==============================] - 0s 1ms/step - loss: 0.3282 - accuracy: 0.8575\n",
      "Epoch 97/100\n",
      "229/229 [==============================] - 0s 2ms/step - loss: 0.3280 - accuracy: 0.8582\n",
      "Epoch 98/100\n",
      "229/229 [==============================] - 0s 1ms/step - loss: 0.3289 - accuracy: 0.8562\n",
      "Epoch 99/100\n",
      "229/229 [==============================] - 0s 1ms/step - loss: 0.3287 - accuracy: 0.8560\n",
      "Epoch 100/100\n",
      "229/229 [==============================] - 0s 1ms/step - loss: 0.3256 - accuracy: 0.8581\n"
     ]
    },
    {
     "data": {
      "text/plain": [
       "<keras.src.callbacks.History at 0x14b8f9c90>"
      ]
     },
     "execution_count": 39,
     "metadata": {},
     "output_type": "execute_result"
    }
   ],
   "source": [
    "model=Sequential([\n",
    "    Dense(26, input_dim=26, activation='relu'),\n",
    "    Dense(15,activation='relu'),\n",
    "    Dense(1,activation='sigmoid'),\n",
    "    ])\n",
    "\n",
    "model.compile(optimizer='adam',\n",
    "              loss='binary_crossentropy', metrics=['accuracy'])\n",
    "\n",
    "model.fit(xtrain, ytrain, epochs=100)"
   ]
  },
  {
   "cell_type": "code",
   "execution_count": 40,
   "id": "d69b5b84-8095-4307-ab8a-c2aa1902a409",
   "metadata": {},
   "outputs": [
    {
     "name": "stdout",
     "output_type": "stream",
     "text": [
      "77/77 [==============================] - 0s 2ms/step - loss: 0.4013 - accuracy: 0.8142\n"
     ]
    },
    {
     "data": {
      "text/plain": [
       "[0.4013271629810333, 0.8141919374465942]"
      ]
     },
     "execution_count": 40,
     "metadata": {},
     "output_type": "execute_result"
    }
   ],
   "source": [
    "model.evaluate(xtext,ytest)"
   ]
  },
  {
   "cell_type": "code",
   "execution_count": 41,
   "id": "07a55feb-1989-45a9-aa6d-b50af112a815",
   "metadata": {},
   "outputs": [
    {
     "name": "stdout",
     "output_type": "stream",
     "text": [
      "77/77 [==============================] - 0s 1ms/step\n"
     ]
    }
   ],
   "source": [
    "ypred=np.round(model.predict(xtext))"
   ]
  },
  {
   "cell_type": "code",
   "execution_count": 50,
   "id": "284b430e-ab1b-4fc1-be78-8d9cea5f4e4e",
   "metadata": {},
   "outputs": [
    {
     "name": "stdout",
     "output_type": "stream",
     "text": [
      "              precision    recall  f1-score   support\n",
      "\n",
      "           0       0.81      0.83      0.82      1249\n",
      "           1       0.82      0.80      0.81      1189\n",
      "\n",
      "    accuracy                           0.81      2438\n",
      "   macro avg       0.81      0.81      0.81      2438\n",
      "weighted avg       0.81      0.81      0.81      2438\n",
      "\n"
     ]
    }
   ],
   "source": [
    "print(classification_report(ytest,ypred))"
   ]
  },
  {
   "cell_type": "code",
   "execution_count": 48,
   "id": "aff5542e",
   "metadata": {},
   "outputs": [
    {
     "data": {
      "text/plain": [
       "<Axes: >"
      ]
     },
     "execution_count": 48,
     "metadata": {},
     "output_type": "execute_result"
    },
    {
     "data": {
      "image/png": "[encoded data removed]",
      "text/plain": [
       "<Figure size 640x480 with 2 Axes>"
      ]
     },
     "metadata": {},
     "output_type": "display_data"
    }
   ],
   "source": [
    "sns.heatmap(confusion_matrix(ytest,ypred),annot=True,cmap=\"coolwarm\")"
   ]
  }
 ],
 "metadata": {
  "kernelspec": {
   "display_name": "Python 3 (ipykernel)",
   "language": "python",
   "name": "python3"
  },
  "language_info": {
   "codemirror_mode": {
    "name": "ipython",
    "version": 3
   },
   "file_extension": ".py",
   "mimetype": "text/x-python",
   "name": "python",
   "nbconvert_exporter": "python",
   "pygments_lexer": "ipython3",
   "version": "3.11.7"
  }
 },
 "nbformat": 4,
 "nbformat_minor": 5
}
