{
 "cells": [
  {
   "cell_type": "markdown",
   "metadata": {},
   "source": [
    "# Feature Selection/Extraction and Outlier Detection"
   ]
  },
  {
   "cell_type": "code",
   "execution_count": 62,
   "metadata": {},
   "outputs": [],
   "source": [
    "import pandas as pd\n",
    "import numpy as np\n",
    "import matplotlib.pyplot as plt\n",
    "import seaborn as sns\n",
    "from sklearn.feature_selection import VarianceThreshold,SelectKBest,chi2,SelectFromModel\n",
    "from sklearn.datasets import load_iris\n",
    "from sklearn.datasets import load_diabetes\n",
    "from sklearn.tree import ExtraTreeClassifier\n",
    "from sklearn.svm import LinearSVC"
   ]
  },
  {
   "cell_type": "code",
   "execution_count": 9,
   "metadata": {},
   "outputs": [
    {
     "data": {
      "text/plain": [
       "array([[0],\n",
       "       [1],\n",
       "       [0],\n",
       "       [1],\n",
       "       [1],\n",
       "       [1]])"
      ]
     },
     "execution_count": 9,
     "metadata": {},
     "output_type": "execute_result"
    }
   ],
   "source": [
    "#VarianceThreshold removes all zero-variance features, i.e. features that have the same value in all samples.\n",
    "X = [[0, 0, 1], [0, 1, 1], [1, 0, 1], [0, 1, 1], [0, 1, 1], [0, 1, 1]] #in this exemple it keeps just feature2\n",
    "t=0.8*(1-0.8)\n",
    "sel=VarianceThreshold(threshold=t)\n",
    "X_new=sel.fit_transform(X)\n",
    "X_new"
   ]
  },
  {
   "cell_type": "code",
   "execution_count": 19,
   "metadata": {},
   "outputs": [
    {
     "name": "stdout",
     "output_type": "stream",
     "text": [
      "[5.1 3.5 1.4 0.2] [1.4 0.2]\n"
     ]
    }
   ],
   "source": [
    "#Select K Best for iris dataset \n",
    "X=load_iris().data\n",
    "Y=load_iris().target\n",
    "\n",
    "sel=SelectKBest(chi2, k=2)\n",
    "X_new=sel.fit_transform(X,Y)\n",
    "print(X[0],X_new[0])"
   ]
  },
  {
   "cell_type": "code",
   "execution_count": 21,
   "metadata": {},
   "outputs": [
    {
     "name": "stdout",
     "output_type": "stream",
     "text": [
      "[0.05651    0.         0.62760699 0.315883  ]\n",
      "[5.1 3.5 1.4 0.2] [1.4 0.2]\n"
     ]
    }
   ],
   "source": [
    "model=ExtraTreeClassifier(max_depth=3, criterion='gini',random_state=1)\n",
    "model.fit(X,Y)\n",
    "print(model.feature_importances_)\n",
    "sel=SelectFromModel(model,prefit=True)\n",
    "X_new=sel.transform(X)\n",
    "print(X[0],X_new[0])"
   ]
  },
  {
   "cell_type": "code",
   "execution_count": 27,
   "metadata": {},
   "outputs": [
    {
     "name": "stdout",
     "output_type": "stream",
     "text": [
      "[5.1 3.5 1.4 0.2] [3.5 1.4]\n"
     ]
    },
    {
     "name": "stderr",
     "output_type": "stream",
     "text": [
      "/usr/local/lib/python3.11/site-packages/sklearn/svm/_classes.py:32: FutureWarning: The default value of `dual` will change from `True` to `'auto'` in 1.5. Set the value of `dual` explicitly to suppress the warning.\n",
      "  warnings.warn(\n"
     ]
    }
   ],
   "source": [
    "model=LinearSVC(C=0.01,penalty='l2')\n",
    "model.fit(X,Y)\n",
    "sel=SelectFromModel(model)\n",
    "X_new=sel.transform(X)\n",
    "print(X[0],X_new[0])"
   ]
  },
  {
   "cell_type": "code",
   "execution_count": 63,
   "metadata": {},
   "outputs": [
    {
     "data": {
      "text/plain": [
       "<Axes: >"
      ]
     },
     "execution_count": 63,
     "metadata": {},
     "output_type": "execute_result"
    },
    {
     "data": {
      "image/png": "[encoded data removed]",
      "text/plain": [
       "<Figure size 640x480 with 1 Axes>"
      ]
     },
     "metadata": {},
     "output_type": "display_data"
    }
   ],
   "source": [
    "diabetes=load_diabetes()\n",
    "X=diabetes.data\n",
    "sns.boxplot(data=X)"
   ]
  },
  {
   "cell_type": "code",
   "execution_count": 64,
   "metadata": {},
   "outputs": [],
   "source": [
    "def identify_outliers(data, whisker_factor=1.5):\n",
    "  q1 = np.quantile(data, 0.25)\n",
    "  q3 = np.quantile(data, 0.75)   \n",
    "  iqr = q3 - q1\n",
    "  lower_bound = q1 - whisker_factor * iqr\n",
    "  upper_bound = q3 + whisker_factor * iqr\n",
    "  return data[(data < lower_bound) | (data > upper_bound)]"
   ]
  },
  {
   "cell_type": "code",
   "execution_count": 70,
   "metadata": {},
   "outputs": [
    {
     "name": "stdout",
     "output_type": "stream",
     "text": [
      "0 []\n",
      "1 []\n",
      "2 [0.16085492 0.13714305 0.17055523]\n",
      "3 []\n",
      "4 [0.15253776 0.13327442 0.12639466 0.15391371 0.12777061 0.1250187\n",
      " 0.1250187  0.12777061]\n",
      "5 [0.19878799 0.13146107 0.15588665 0.12801644 0.1251981  0.12739014\n",
      " 0.13020848]\n",
      "6 [0.13331777 0.18117906 0.15172596 0.17749742 0.15908923 0.14068104\n",
      " 0.17381578]\n",
      "7 [0.18523444 0.15534454]\n",
      "8 [0.13359728 0.13359728 0.13339674 0.13237579]\n",
      "9 [ 0.13561183 -0.12948301  0.13561183  0.13146972  0.12732762 -0.12948301\n",
      "  0.13561183 -0.13776723  0.13146972]\n"
     ]
    }
   ],
   "source": [
    "for col in range (0,10):\n",
    "  outlier_indices = identify_outliers(X[:,col], whisker_factor=1.5)\n",
    "  print(col,outlier_indices)"
   ]
  },
  {
   "cell_type": "code",
   "execution_count": 80,
   "metadata": {},
   "outputs": [
    {
     "data": {
      "text/plain": [
       "array([[ 0.04170844, -0.04464164, -0.06440781,  0.03564379,  0.01219057,\n",
       "        -0.05799375,  0.18117906, -0.0763945 , -0.00061174, -0.05078298],\n",
       "       [ 0.00538306,  0.05068012,  0.0347509 , -0.00109143,  0.15253776,\n",
       "         0.19878799, -0.06180903,  0.18523444,  0.01556846,  0.07348023]])"
      ]
     },
     "execution_count": 80,
     "metadata": {},
     "output_type": "execute_result"
    }
   ],
   "source": [
    "mask=X> 0.18 \n",
    "X[mask.any(axis=1)]"
   ]
  }
 ],
 "metadata": {
  "kernelspec": {
   "display_name": "Python 3",
   "language": "python",
   "name": "python3"
  },
  "language_info": {
   "codemirror_mode": {
    "name": "ipython",
    "version": 3
   },
   "file_extension": ".py",
   "mimetype": "text/x-python",
   "name": "python",
   "nbconvert_exporter": "python",
   "pygments_lexer": "ipython3",
   "version": "3.11.7"
  }
 },
 "nbformat": 4,
 "nbformat_minor": 2
}
