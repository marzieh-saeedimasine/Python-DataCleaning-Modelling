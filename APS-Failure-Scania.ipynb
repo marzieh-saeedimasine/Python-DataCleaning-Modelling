{
 "cells": [
  {
   "cell_type": "code",
   "execution_count": null,
   "metadata": {},
   "outputs": [],
   "source": [
    "''' \n",
    "APS Failure and Operational Data for Scania Trucks has been downloaded from this page: \n",
    "https://archive.ics.uci.edu/dataset/421/aps+failure+at+scania+trucks\n",
    "data cleaning has been performed with different Imputation methods\n",
    "APS Failure at Scania Trucks has been modelled with different ML boosting techniques \n",
    "'''"
   ]
  },
  {
   "cell_type": "code",
   "execution_count": 255,
   "metadata": {},
   "outputs": [],
   "source": [
    "#!pip install imblearn catboost xgboost"
   ]
  },
  {
   "cell_type": "code",
   "execution_count": 312,
   "metadata": {},
   "outputs": [],
   "source": [
    "import os\n",
    "import numpy as np\n",
    "import pandas as pd\n",
    "import matplotlib.pyplot as plt\n",
    "import seaborn as sns\n",
    "from sklearn.pipeline import Pipeline\n",
    "from sklearn.impute import SimpleImputer, KNNImputer\n",
    "from sklearn.preprocessing import MinMaxScaler, RobustScaler\n",
    "from imblearn.combine import SMOTETomek\n",
    "from sklearn.ensemble import RandomForestClassifier, AdaBoostClassifier, GradientBoostingClassifier\n",
    "from catboost import CatBoostClassifier\n",
    "from xgboost import XGBClassifier\n",
    "from sklearn.model_selection import train_test_split\n",
    "from sklearn.metrics import accuracy_score, precision_score, recall_score, f1_score, roc_auc_score, roc_curve, confusion_matrix,classification_report, ConfusionMatrixDisplay\n"
   ]
  },
  {
   "cell_type": "code",
   "execution_count": 288,
   "metadata": {},
   "outputs": [
    {
     "data": {
      "text/html": [
       "<div>\n",
       "<style scoped>\n",
       "    .dataframe tbody tr th:only-of-type {\n",
       "        vertical-align: middle;\n",
       "    }\n",
       "\n",
       "    .dataframe tbody tr th {\n",
       "        vertical-align: top;\n",
       "    }\n",
       "\n",
       "    .dataframe thead th {\n",
       "        text-align: right;\n",
       "    }\n",
       "</style>\n",
       "<table border=\"1\" class=\"dataframe\">\n",
       "  <thead>\n",
       "    <tr style=\"text-align: right;\">\n",
       "      <th></th>\n",
       "      <th>class</th>\n",
       "      <th>aa_000</th>\n",
       "      <th>ab_000</th>\n",
       "      <th>ac_000</th>\n",
       "      <th>ad_000</th>\n",
       "      <th>ae_000</th>\n",
       "      <th>af_000</th>\n",
       "      <th>ag_000</th>\n",
       "      <th>ag_001</th>\n",
       "      <th>ag_002</th>\n",
       "      <th>...</th>\n",
       "      <th>ee_002</th>\n",
       "      <th>ee_003</th>\n",
       "      <th>ee_004</th>\n",
       "      <th>ee_005</th>\n",
       "      <th>ee_006</th>\n",
       "      <th>ee_007</th>\n",
       "      <th>ee_008</th>\n",
       "      <th>ee_009</th>\n",
       "      <th>ef_000</th>\n",
       "      <th>eg_000</th>\n",
       "    </tr>\n",
       "  </thead>\n",
       "  <tbody>\n",
       "    <tr>\n",
       "      <th>0</th>\n",
       "      <td>neg</td>\n",
       "      <td>76698</td>\n",
       "      <td>NaN</td>\n",
       "      <td>2.130706e+09</td>\n",
       "      <td>280.0</td>\n",
       "      <td>0.0</td>\n",
       "      <td>0.0</td>\n",
       "      <td>0.0</td>\n",
       "      <td>0.0</td>\n",
       "      <td>0.0</td>\n",
       "      <td>...</td>\n",
       "      <td>1240520.0</td>\n",
       "      <td>493384.0</td>\n",
       "      <td>721044.0</td>\n",
       "      <td>469792.0</td>\n",
       "      <td>339156.0</td>\n",
       "      <td>157956.0</td>\n",
       "      <td>73224.0</td>\n",
       "      <td>0.0</td>\n",
       "      <td>0.0</td>\n",
       "      <td>0.0</td>\n",
       "    </tr>\n",
       "    <tr>\n",
       "      <th>1</th>\n",
       "      <td>neg</td>\n",
       "      <td>33058</td>\n",
       "      <td>NaN</td>\n",
       "      <td>0.000000e+00</td>\n",
       "      <td>NaN</td>\n",
       "      <td>0.0</td>\n",
       "      <td>0.0</td>\n",
       "      <td>0.0</td>\n",
       "      <td>0.0</td>\n",
       "      <td>0.0</td>\n",
       "      <td>...</td>\n",
       "      <td>421400.0</td>\n",
       "      <td>178064.0</td>\n",
       "      <td>293306.0</td>\n",
       "      <td>245416.0</td>\n",
       "      <td>133654.0</td>\n",
       "      <td>81140.0</td>\n",
       "      <td>97576.0</td>\n",
       "      <td>1500.0</td>\n",
       "      <td>0.0</td>\n",
       "      <td>0.0</td>\n",
       "    </tr>\n",
       "    <tr>\n",
       "      <th>2</th>\n",
       "      <td>neg</td>\n",
       "      <td>41040</td>\n",
       "      <td>NaN</td>\n",
       "      <td>2.280000e+02</td>\n",
       "      <td>100.0</td>\n",
       "      <td>0.0</td>\n",
       "      <td>0.0</td>\n",
       "      <td>0.0</td>\n",
       "      <td>0.0</td>\n",
       "      <td>0.0</td>\n",
       "      <td>...</td>\n",
       "      <td>277378.0</td>\n",
       "      <td>159812.0</td>\n",
       "      <td>423992.0</td>\n",
       "      <td>409564.0</td>\n",
       "      <td>320746.0</td>\n",
       "      <td>158022.0</td>\n",
       "      <td>95128.0</td>\n",
       "      <td>514.0</td>\n",
       "      <td>0.0</td>\n",
       "      <td>0.0</td>\n",
       "    </tr>\n",
       "    <tr>\n",
       "      <th>3</th>\n",
       "      <td>neg</td>\n",
       "      <td>12</td>\n",
       "      <td>0.0</td>\n",
       "      <td>7.000000e+01</td>\n",
       "      <td>66.0</td>\n",
       "      <td>0.0</td>\n",
       "      <td>10.0</td>\n",
       "      <td>0.0</td>\n",
       "      <td>0.0</td>\n",
       "      <td>0.0</td>\n",
       "      <td>...</td>\n",
       "      <td>240.0</td>\n",
       "      <td>46.0</td>\n",
       "      <td>58.0</td>\n",
       "      <td>44.0</td>\n",
       "      <td>10.0</td>\n",
       "      <td>0.0</td>\n",
       "      <td>0.0</td>\n",
       "      <td>0.0</td>\n",
       "      <td>4.0</td>\n",
       "      <td>32.0</td>\n",
       "    </tr>\n",
       "    <tr>\n",
       "      <th>4</th>\n",
       "      <td>neg</td>\n",
       "      <td>60874</td>\n",
       "      <td>NaN</td>\n",
       "      <td>1.368000e+03</td>\n",
       "      <td>458.0</td>\n",
       "      <td>0.0</td>\n",
       "      <td>0.0</td>\n",
       "      <td>0.0</td>\n",
       "      <td>0.0</td>\n",
       "      <td>0.0</td>\n",
       "      <td>...</td>\n",
       "      <td>622012.0</td>\n",
       "      <td>229790.0</td>\n",
       "      <td>405298.0</td>\n",
       "      <td>347188.0</td>\n",
       "      <td>286954.0</td>\n",
       "      <td>311560.0</td>\n",
       "      <td>433954.0</td>\n",
       "      <td>1218.0</td>\n",
       "      <td>0.0</td>\n",
       "      <td>0.0</td>\n",
       "    </tr>\n",
       "  </tbody>\n",
       "</table>\n",
       "<p>5 rows × 171 columns</p>\n",
       "</div>"
      ],
      "text/plain": [
       "  class  aa_000  ab_000        ac_000  ad_000  ae_000  af_000  ag_000  ag_001  \\\n",
       "0   neg   76698     NaN  2.130706e+09   280.0     0.0     0.0     0.0     0.0   \n",
       "1   neg   33058     NaN  0.000000e+00     NaN     0.0     0.0     0.0     0.0   \n",
       "2   neg   41040     NaN  2.280000e+02   100.0     0.0     0.0     0.0     0.0   \n",
       "3   neg      12     0.0  7.000000e+01    66.0     0.0    10.0     0.0     0.0   \n",
       "4   neg   60874     NaN  1.368000e+03   458.0     0.0     0.0     0.0     0.0   \n",
       "\n",
       "   ag_002  ...     ee_002    ee_003    ee_004    ee_005    ee_006    ee_007  \\\n",
       "0     0.0  ...  1240520.0  493384.0  721044.0  469792.0  339156.0  157956.0   \n",
       "1     0.0  ...   421400.0  178064.0  293306.0  245416.0  133654.0   81140.0   \n",
       "2     0.0  ...   277378.0  159812.0  423992.0  409564.0  320746.0  158022.0   \n",
       "3     0.0  ...      240.0      46.0      58.0      44.0      10.0       0.0   \n",
       "4     0.0  ...   622012.0  229790.0  405298.0  347188.0  286954.0  311560.0   \n",
       "\n",
       "     ee_008  ee_009  ef_000  eg_000  \n",
       "0   73224.0     0.0     0.0     0.0  \n",
       "1   97576.0  1500.0     0.0     0.0  \n",
       "2   95128.0   514.0     0.0     0.0  \n",
       "3       0.0     0.0     4.0    32.0  \n",
       "4  433954.0  1218.0     0.0     0.0  \n",
       "\n",
       "[5 rows x 171 columns]"
      ]
     },
     "execution_count": 288,
     "metadata": {},
     "output_type": "execute_result"
    }
   ],
   "source": [
    "df_train=pd.read_csv(\"./data/aps_failure_training_set.csv\",na_values=\"na\")\n",
    "df_train.head()"
   ]
  },
  {
   "cell_type": "code",
   "execution_count": 289,
   "metadata": {},
   "outputs": [
    {
     "name": "stdout",
     "output_type": "stream",
     "text": [
      "(60000, 171)\n"
     ]
    },
    {
     "data": {
      "text/plain": [
       "Index(['class', 'aa_000', 'ab_000', 'ac_000', 'ad_000', 'ae_000', 'af_000',\n",
       "       'ag_000', 'ag_001', 'ag_002',\n",
       "       ...\n",
       "       'ee_002', 'ee_003', 'ee_004', 'ee_005', 'ee_006', 'ee_007', 'ee_008',\n",
       "       'ee_009', 'ef_000', 'eg_000'],\n",
       "      dtype='object', length=171)"
      ]
     },
     "execution_count": 289,
     "metadata": {},
     "output_type": "execute_result"
    }
   ],
   "source": [
    "print(df_train.shape)\n",
    "df_train.columns"
   ]
  },
  {
   "cell_type": "code",
   "execution_count": 290,
   "metadata": {},
   "outputs": [
    {
     "data": {
      "text/plain": [
       "<Axes: xlabel='class', ylabel='count'>"
      ]
     },
     "execution_count": 290,
     "metadata": {},
     "output_type": "execute_result"
    },
    {
     "data": {
      "image/png": "[encoded data removed]",
      "text/plain": [
       "<Figure size 640x480 with 1 Axes>"
      ]
     },
     "metadata": {},
     "output_type": "display_data"
    }
   ],
   "source": [
    "df_train['class'].unique()\n",
    "df_train['class'].value_counts()\n",
    "df_train['class']=df_train['class'].replace(['neg','pos'],[0,1])\n",
    "sns.barplot(df_train['class'].value_counts())"
   ]
  },
  {
   "cell_type": "code",
   "execution_count": 291,
   "metadata": {},
   "outputs": [
    {
     "data": {
      "text/html": [
       "<div>\n",
       "<style scoped>\n",
       "    .dataframe tbody tr th:only-of-type {\n",
       "        vertical-align: middle;\n",
       "    }\n",
       "\n",
       "    .dataframe tbody tr th {\n",
       "        vertical-align: top;\n",
       "    }\n",
       "\n",
       "    .dataframe thead th {\n",
       "        text-align: right;\n",
       "    }\n",
       "</style>\n",
       "<table border=\"1\" class=\"dataframe\">\n",
       "  <thead>\n",
       "    <tr style=\"text-align: right;\">\n",
       "      <th></th>\n",
       "      <th>count</th>\n",
       "      <th>mean</th>\n",
       "      <th>std</th>\n",
       "      <th>min</th>\n",
       "      <th>25%</th>\n",
       "      <th>50%</th>\n",
       "      <th>75%</th>\n",
       "      <th>max</th>\n",
       "    </tr>\n",
       "  </thead>\n",
       "  <tbody>\n",
       "    <tr>\n",
       "      <th>class</th>\n",
       "      <td>60000.0</td>\n",
       "      <td>2.000000e-02</td>\n",
       "      <td>1.300000e-01</td>\n",
       "      <td>0.0</td>\n",
       "      <td>0.0</td>\n",
       "      <td>0.0</td>\n",
       "      <td>0.0</td>\n",
       "      <td>1.000000e+00</td>\n",
       "    </tr>\n",
       "    <tr>\n",
       "      <th>aa_000</th>\n",
       "      <td>60000.0</td>\n",
       "      <td>5.933650e+04</td>\n",
       "      <td>1.454301e+05</td>\n",
       "      <td>0.0</td>\n",
       "      <td>834.0</td>\n",
       "      <td>30776.0</td>\n",
       "      <td>48668.0</td>\n",
       "      <td>2.746564e+06</td>\n",
       "    </tr>\n",
       "    <tr>\n",
       "      <th>ab_000</th>\n",
       "      <td>13671.0</td>\n",
       "      <td>7.100000e-01</td>\n",
       "      <td>3.480000e+00</td>\n",
       "      <td>0.0</td>\n",
       "      <td>0.0</td>\n",
       "      <td>0.0</td>\n",
       "      <td>0.0</td>\n",
       "      <td>2.040000e+02</td>\n",
       "    </tr>\n",
       "    <tr>\n",
       "      <th>ac_000</th>\n",
       "      <td>56665.0</td>\n",
       "      <td>3.560143e+08</td>\n",
       "      <td>7.948749e+08</td>\n",
       "      <td>0.0</td>\n",
       "      <td>16.0</td>\n",
       "      <td>152.0</td>\n",
       "      <td>964.0</td>\n",
       "      <td>2.130707e+09</td>\n",
       "    </tr>\n",
       "    <tr>\n",
       "      <th>ad_000</th>\n",
       "      <td>45139.0</td>\n",
       "      <td>1.906206e+05</td>\n",
       "      <td>4.040441e+07</td>\n",
       "      <td>0.0</td>\n",
       "      <td>24.0</td>\n",
       "      <td>126.0</td>\n",
       "      <td>430.0</td>\n",
       "      <td>8.584298e+09</td>\n",
       "    </tr>\n",
       "    <tr>\n",
       "      <th>...</th>\n",
       "      <td>...</td>\n",
       "      <td>...</td>\n",
       "      <td>...</td>\n",
       "      <td>...</td>\n",
       "      <td>...</td>\n",
       "      <td>...</td>\n",
       "      <td>...</td>\n",
       "      <td>...</td>\n",
       "    </tr>\n",
       "    <tr>\n",
       "      <th>ee_007</th>\n",
       "      <td>59329.0</td>\n",
       "      <td>3.462714e+05</td>\n",
       "      <td>1.728056e+06</td>\n",
       "      <td>0.0</td>\n",
       "      <td>110.0</td>\n",
       "      <td>41098.0</td>\n",
       "      <td>167814.0</td>\n",
       "      <td>1.195801e+08</td>\n",
       "    </tr>\n",
       "    <tr>\n",
       "      <th>ee_008</th>\n",
       "      <td>59329.0</td>\n",
       "      <td>1.387300e+05</td>\n",
       "      <td>4.495100e+05</td>\n",
       "      <td>0.0</td>\n",
       "      <td>0.0</td>\n",
       "      <td>3812.0</td>\n",
       "      <td>139724.0</td>\n",
       "      <td>1.926740e+07</td>\n",
       "    </tr>\n",
       "    <tr>\n",
       "      <th>ee_009</th>\n",
       "      <td>59329.0</td>\n",
       "      <td>8.388910e+03</td>\n",
       "      <td>4.747043e+04</td>\n",
       "      <td>0.0</td>\n",
       "      <td>0.0</td>\n",
       "      <td>0.0</td>\n",
       "      <td>2028.0</td>\n",
       "      <td>3.810078e+06</td>\n",
       "    </tr>\n",
       "    <tr>\n",
       "      <th>ef_000</th>\n",
       "      <td>57276.0</td>\n",
       "      <td>9.000000e-02</td>\n",
       "      <td>4.370000e+00</td>\n",
       "      <td>0.0</td>\n",
       "      <td>0.0</td>\n",
       "      <td>0.0</td>\n",
       "      <td>0.0</td>\n",
       "      <td>4.820000e+02</td>\n",
       "    </tr>\n",
       "    <tr>\n",
       "      <th>eg_000</th>\n",
       "      <td>57277.0</td>\n",
       "      <td>2.100000e-01</td>\n",
       "      <td>8.830000e+00</td>\n",
       "      <td>0.0</td>\n",
       "      <td>0.0</td>\n",
       "      <td>0.0</td>\n",
       "      <td>0.0</td>\n",
       "      <td>1.146000e+03</td>\n",
       "    </tr>\n",
       "  </tbody>\n",
       "</table>\n",
       "<p>171 rows × 8 columns</p>\n",
       "</div>"
      ],
      "text/plain": [
       "          count          mean           std  min    25%      50%       75%  \\\n",
       "class   60000.0  2.000000e-02  1.300000e-01  0.0    0.0      0.0       0.0   \n",
       "aa_000  60000.0  5.933650e+04  1.454301e+05  0.0  834.0  30776.0   48668.0   \n",
       "ab_000  13671.0  7.100000e-01  3.480000e+00  0.0    0.0      0.0       0.0   \n",
       "ac_000  56665.0  3.560143e+08  7.948749e+08  0.0   16.0    152.0     964.0   \n",
       "ad_000  45139.0  1.906206e+05  4.040441e+07  0.0   24.0    126.0     430.0   \n",
       "...         ...           ...           ...  ...    ...      ...       ...   \n",
       "ee_007  59329.0  3.462714e+05  1.728056e+06  0.0  110.0  41098.0  167814.0   \n",
       "ee_008  59329.0  1.387300e+05  4.495100e+05  0.0    0.0   3812.0  139724.0   \n",
       "ee_009  59329.0  8.388910e+03  4.747043e+04  0.0    0.0      0.0    2028.0   \n",
       "ef_000  57276.0  9.000000e-02  4.370000e+00  0.0    0.0      0.0       0.0   \n",
       "eg_000  57277.0  2.100000e-01  8.830000e+00  0.0    0.0      0.0       0.0   \n",
       "\n",
       "                 max  \n",
       "class   1.000000e+00  \n",
       "aa_000  2.746564e+06  \n",
       "ab_000  2.040000e+02  \n",
       "ac_000  2.130707e+09  \n",
       "ad_000  8.584298e+09  \n",
       "...              ...  \n",
       "ee_007  1.195801e+08  \n",
       "ee_008  1.926740e+07  \n",
       "ee_009  3.810078e+06  \n",
       "ef_000  4.820000e+02  \n",
       "eg_000  1.146000e+03  \n",
       "\n",
       "[171 rows x 8 columns]"
      ]
     },
     "execution_count": 291,
     "metadata": {},
     "output_type": "execute_result"
    }
   ],
   "source": [
    "df_train.describe().T.round(2)"
   ]
  },
  {
   "cell_type": "code",
   "execution_count": 292,
   "metadata": {},
   "outputs": [
    {
     "name": "stdout",
     "output_type": "stream",
     "text": [
      "cd_000\n"
     ]
    }
   ],
   "source": [
    "for col in df_train.columns:\n",
    "    df_std=df_train[col].std()\n",
    "    if df_std==0:\n",
    "        print(col)\n",
    "\n",
    "df_train.drop(columns=\"cd_000\", inplace=True)"
   ]
  },
  {
   "cell_type": "code",
   "execution_count": 293,
   "metadata": {},
   "outputs": [],
   "source": [
    "y_train=df_train[\"class\"]\n",
    "X_train=df_train.drop(columns=\"class\",axis=1)"
   ]
  },
  {
   "cell_type": "markdown",
   "metadata": {},
   "source": [
    "# Treating Missing Values "
   ]
  },
  {
   "cell_type": "code",
   "execution_count": 295,
   "metadata": {},
   "outputs": [
    {
     "data": {
      "text/plain": [
       "array([    0, 46329,  3335, 14861,  2500,  2500,   671,   671,   671,\n",
       "         671,   671,   671,   671,   671,   671,   671,   645,   629,\n",
       "         629,  4400,   642,   629,   642,   589,   642,   589,  2723,\n",
       "         629,   629,   629,  2500,  2501,   671,   671,   671,   671,\n",
       "         671,   671,   671,   671,   671,   671,   671,   671,   671,\n",
       "         671,   671,   671,   671,   671,   671,   671,   688,   688,\n",
       "         688,   688,   688,   688,   688,   688,   688,   688,   645,\n",
       "        2725,  2727,  2503,  2500,   642,   642,   589,   589, 23034,\n",
       "       27277, 39549, 44009, 46333, 47740, 48722, 49264,   726,   167,\n",
       "         691,   691,  3257,   473,  2723,  4356,   726,  3255,  2502,\n",
       "       14861, 14861, 14861,   338,   338,   338,  9553,  9877,   687,\n",
       "         687,   687,   687,   687,   687,   687,   687,   687,   687,\n",
       "       14861,  2724,   691, 46329,   669,   669,   669,   669,   669,\n",
       "         669,   669,   669,   669,   669, 13808, 13808, 13808, 13808,\n",
       "       13808, 13808, 13808, 13808, 13808,  2503,  2724,  4008,  4008,\n",
       "        4008,  4006,  4007,  4007,  4008,  4009,   691,  2724,  2726,\n",
       "        2726,  2726,  2727,  2727,  2726,  2726,  2723,  2724,  2723,\n",
       "        2723,  4007, 10239,  9553,   671,   671,   671,   671,   671,\n",
       "         671,   671,   671,   671,   671,  2724,  2723])"
      ]
     },
     "execution_count": 295,
     "metadata": {},
     "output_type": "execute_result"
    }
   ],
   "source": [
    "X_train.isnull().sum().values"
   ]
  },
  {
   "cell_type": "code",
   "execution_count": 296,
   "metadata": {},
   "outputs": [
    {
     "data": {
      "text/plain": [
       "<BarContainer object of 169 artists>"
      ]
     },
     "execution_count": 296,
     "metadata": {},
     "output_type": "execute_result"
    },
    {
     "data": {
      "image/png": "[encoded data removed]",
      "text/plain": [
       "<Figure size 640x480 with 1 Axes>"
      ]
     },
     "metadata": {},
     "output_type": "display_data"
    }
   ],
   "source": [
    "missing=(X_train.isna().sum().values/X_train.shape[0])*100\n",
    "plt.bar(X_train.columns,missing)"
   ]
  },
  {
   "cell_type": "code",
   "execution_count": 297,
   "metadata": {},
   "outputs": [],
   "source": [
    "drop_col=[]\n",
    "fill_model=[]\n",
    "fill_median=[]\n",
    "\n",
    "\n",
    "for col in X_train.columns:\n",
    "    if X_train[col].isna().sum()*100/X_train.shape[0] > 70:\n",
    "        drop_col.append(col)\n",
    "    elif X_train[col].isna().sum()*100/X_train.shape[0] > 20:\n",
    "        fill_model.append(col)\n",
    "    elif  X_train[col].isna().sum()*100/X_train.shape[0] < 20:\n",
    "        fill_median.append(col)\n",
    "    else:\n",
    "        print(col)"
   ]
  },
  {
   "cell_type": "markdown",
   "metadata": {},
   "source": [
    "# Drop columns having missing values > 70%"
   ]
  },
  {
   "cell_type": "code",
   "execution_count": 298,
   "metadata": {},
   "outputs": [],
   "source": [
    "# Drop columns having missing values > 70%\n",
    "X_train.drop(columns=drop_col, inplace=True)"
   ]
  },
  {
   "cell_type": "code",
   "execution_count": null,
   "metadata": {},
   "outputs": [],
   "source": [
    "X_train.isna().sum().values.sum()*100/(X_train.shape[0]*X_train.shape[1])"
   ]
  },
  {
   "cell_type": "markdown",
   "metadata": {},
   "source": [
    "# Fill columns having missing values <20% with Simple Imputer (median)"
   ]
  },
  {
   "cell_type": "code",
   "execution_count": 302,
   "metadata": {},
   "outputs": [],
   "source": [
    "median_pipeline = Pipeline(steps=[\n",
    "    ('imputer', SimpleImputer(missing_values=np.NaN,strategy='median')),\n",
    "    ('RobustScaler', RobustScaler())\n",
    "])\n",
    "X_train[fill_median] = median_pipeline.fit_transform(X_train[fill_median])"
   ]
  },
  {
   "cell_type": "code",
   "execution_count": 304,
   "metadata": {},
   "outputs": [
    {
     "data": {
      "text/plain": [
       "2.9674588477366255"
      ]
     },
     "execution_count": 304,
     "metadata": {},
     "output_type": "execute_result"
    }
   ],
   "source": [
    "X_train.isna().sum().values.sum()*100/(X_train.shape[0]*X_train.shape[1])"
   ]
  },
  {
   "cell_type": "markdown",
   "metadata": {},
   "source": [
    "# Fill the rest of missing vlaues with KNN model Imputer"
   ]
  },
  {
   "cell_type": "markdown",
   "metadata": {},
   "source": [
    "**Imputation:** The KNNImputer imputes any missing values in your dataset using the k-nearest neighbors approach.\n",
    "**Scaling:** The RobustScaler then scales the imputed data, making the features more robust to outliers."
   ]
  },
  {
   "cell_type": "code",
   "execution_count": 305,
   "metadata": {},
   "outputs": [],
   "source": [
    "knn_pipeline = Pipeline(steps=[\n",
    "    ('imputer', KNNImputer(n_neighbors=3)),\n",
    "    ('RobustScaler', RobustScaler())\n",
    "])\n",
    "X_train[fill_model] = knn_pipeline.fit_transform(X_train[fill_model])"
   ]
  },
  {
   "cell_type": "code",
   "execution_count": 306,
   "metadata": {},
   "outputs": [
    {
     "data": {
      "text/plain": [
       "0.0"
      ]
     },
     "execution_count": 306,
     "metadata": {},
     "output_type": "execute_result"
    }
   ],
   "source": [
    "X_train.isna().sum().values.sum()*100/(X_train.shape[0]*X_train.shape[1])"
   ]
  },
  {
   "cell_type": "markdown",
   "metadata": {},
   "source": [
    "# Handling Imbalanced Dataset"
   ]
  },
  {
   "cell_type": "markdown",
   "metadata": {},
   "source": [
    "**SMOTETomek** is one of such a hybrid technique that aims to clean overlapping data points for each of the class distributed in sample space.\n",
    "1. **SMOTE:** This technique generates synthetic samples for the minority class by interpolating between existing samples.\n",
    "2. **Tomek Links:** This technique removes examples from the majority class that are very close to examples from the minority class, thus cleaning up the class boundary."
   ]
  },
  {
   "cell_type": "code",
   "execution_count": 307,
   "metadata": {},
   "outputs": [
    {
     "name": "stderr",
     "output_type": "stream",
     "text": [
      "/usr/local/lib/python3.11/site-packages/imblearn/over_sampling/_smote/base.py:370: FutureWarning: The parameter `n_jobs` has been deprecated in 0.10 and will be removed in 0.12. You can pass an nearest neighbors estimator where `n_jobs` is already set instead.\n",
      "  warnings.warn(\n"
     ]
    }
   ],
   "source": [
    "smt = SMOTETomek(random_state=42, sampling_strategy='minority', n_jobs=-1)\n",
    "X_train_blanced, y_train_blanced = smt.fit_resample(X_train, y_train)"
   ]
  },
  {
   "cell_type": "code",
   "execution_count": 309,
   "metadata": {},
   "outputs": [
    {
     "name": "stdout",
     "output_type": "stream",
     "text": [
      "class\n",
      "0    58861\n",
      "1    58861\n",
      "Name: count, dtype: int64\n"
     ]
    },
    {
     "data": {
      "text/plain": [
       "(117722, 162)"
      ]
     },
     "execution_count": 309,
     "metadata": {},
     "output_type": "execute_result"
    }
   ],
   "source": [
    "print(y_train_blanced.value_counts())\n",
    "X_train_blanced.shape"
   ]
  },
  {
   "cell_type": "markdown",
   "metadata": {},
   "source": [
    "# Train with different  machine learning models"
   ]
  },
  {
   "cell_type": "code",
   "execution_count": 311,
   "metadata": {},
   "outputs": [],
   "source": [
    "models = {\n",
    "    \"RandomForest\" : RandomForestClassifier(),\n",
    "    \"GradientBoosting\" : GradientBoostingClassifier(),\n",
    "    \"XGBClassifier\" : XGBClassifier(),\n",
    "    \"CatBoostClassifier\" : CatBoostClassifier(verbose=False),\n",
    "    \"AdaBoostClassifier\" : AdaBoostClassifier()\n",
    "}"
   ]
  },
  {
   "cell_type": "code",
   "execution_count": 313,
   "metadata": {},
   "outputs": [],
   "source": [
    "def evaluate_clf(actual, predicted):\n",
    "    acc=accuracy_score(actual, predicted)\n",
    "    f1=f1_score(actual, predicted)\n",
    "    precision=precision_score(actual, predicted)\n",
    "    recall=recall_score(actual, predicted)\n",
    "    roc_auc=roc_auc_score(actual, predicted)\n",
    "    tn, fp, fn, tp =confusion_matrix(actual, predicted).ravel()\n",
    "    cost = 10*fp + 500*fn\n",
    "\n",
    "    return acc, f1, precision, recall, roc_auc, cost"
   ]
  },
  {
   "cell_type": "code",
   "execution_count": 320,
   "metadata": {},
   "outputs": [],
   "source": [
    "def model_eval(X,y,models):\n",
    "    results=[]\n",
    "\n",
    "    X_train, X_test, y_train, y_test = train_test_split(X, y, test_size=0.2, random_state=100)\n",
    "    for name, model in models.items():\n",
    "        model.fit(X_train, y_train)\n",
    "        ypred_train = model.predict(X_train)\n",
    "        ypred_test = model.predict(X_test)\n",
    "        \n",
    "        train_acc, train_f1, train_precision, train_recall, train_roc_auc,train_cost= evaluate_clf(y_train, ypred_train)\n",
    "        \n",
    "        test_acc, test_f1, test_precision, test_recall, test_roc_auc,test_cost = evaluate_clf(y_test, ypred_test)\n",
    "        \n",
    "        results.append({\n",
    "            'Model_Name': name,\n",
    "            'Train_Accuracy': train_acc,\n",
    "            'Train_F1': train_f1,\n",
    "            'Train_Precision': train_precision,\n",
    "            'Train_Recall': train_recall,\n",
    "            'Train_ROC_AUC': train_roc_auc,\n",
    "            'Train_Cost': train_cost,\n",
    "            'Test_Accuracy': test_acc,\n",
    "            'Test_F1': test_f1,\n",
    "            'Test_Precision': test_precision,\n",
    "            'Test_Recall': test_recall,\n",
    "            'Test_ROC_AUC': test_roc_auc,\n",
    "            'Test_Cost': test_cost\n",
    "        })\n",
    "        \n",
    "    report = pd.DataFrame(results)#.sort_values(by=['Test_Cost'])\n",
    "    return report"
   ]
  },
  {
   "cell_type": "code",
   "execution_count": 321,
   "metadata": {},
   "outputs": [
    {
     "data": {
      "text/html": [
       "<div>\n",
       "<style scoped>\n",
       "    .dataframe tbody tr th:only-of-type {\n",
       "        vertical-align: middle;\n",
       "    }\n",
       "\n",
       "    .dataframe tbody tr th {\n",
       "        vertical-align: top;\n",
       "    }\n",
       "\n",
       "    .dataframe thead th {\n",
       "        text-align: right;\n",
       "    }\n",
       "</style>\n",
       "<table border=\"1\" class=\"dataframe\">\n",
       "  <thead>\n",
       "    <tr style=\"text-align: right;\">\n",
       "      <th></th>\n",
       "      <th>Model_Name</th>\n",
       "      <th>Train_Accuracy</th>\n",
       "      <th>Train_F1</th>\n",
       "      <th>Train_Precision</th>\n",
       "      <th>Train_Recall</th>\n",
       "      <th>Train_ROC_AUC</th>\n",
       "      <th>Train_Cost</th>\n",
       "      <th>Test_Accuracy</th>\n",
       "      <th>Test_F1</th>\n",
       "      <th>Test_Precision</th>\n",
       "      <th>Test_Recall</th>\n",
       "      <th>Test_ROC_AUC</th>\n",
       "      <th>Test_Cost</th>\n",
       "    </tr>\n",
       "  </thead>\n",
       "  <tbody>\n",
       "    <tr>\n",
       "      <th>0</th>\n",
       "      <td>RandomForest</td>\n",
       "      <td>1.000000</td>\n",
       "      <td>1.000000</td>\n",
       "      <td>1.000000</td>\n",
       "      <td>1.000000</td>\n",
       "      <td>1.000000</td>\n",
       "      <td>0</td>\n",
       "      <td>0.994818</td>\n",
       "      <td>0.994863</td>\n",
       "      <td>0.992773</td>\n",
       "      <td>0.996962</td>\n",
       "      <td>0.994804</td>\n",
       "      <td>18860</td>\n",
       "    </tr>\n",
       "    <tr>\n",
       "      <th>1</th>\n",
       "      <td>GradientBoosting</td>\n",
       "      <td>0.984773</td>\n",
       "      <td>0.984807</td>\n",
       "      <td>0.981024</td>\n",
       "      <td>0.988620</td>\n",
       "      <td>0.984780</td>\n",
       "      <td>276490</td>\n",
       "      <td>0.983903</td>\n",
       "      <td>0.984063</td>\n",
       "      <td>0.980640</td>\n",
       "      <td>0.987509</td>\n",
       "      <td>0.983880</td>\n",
       "      <td>76310</td>\n",
       "    </tr>\n",
       "    <tr>\n",
       "      <th>2</th>\n",
       "      <td>XGBClassifier</td>\n",
       "      <td>1.000000</td>\n",
       "      <td>1.000000</td>\n",
       "      <td>1.000000</td>\n",
       "      <td>1.000000</td>\n",
       "      <td>1.000000</td>\n",
       "      <td>0</td>\n",
       "      <td>0.997239</td>\n",
       "      <td>0.997261</td>\n",
       "      <td>0.995709</td>\n",
       "      <td>0.998818</td>\n",
       "      <td>0.997229</td>\n",
       "      <td>7510</td>\n",
       "    </tr>\n",
       "    <tr>\n",
       "      <th>3</th>\n",
       "      <td>CatBoostClassifier</td>\n",
       "      <td>0.999512</td>\n",
       "      <td>0.999511</td>\n",
       "      <td>0.999553</td>\n",
       "      <td>0.999468</td>\n",
       "      <td>0.999511</td>\n",
       "      <td>12710</td>\n",
       "      <td>0.996050</td>\n",
       "      <td>0.996083</td>\n",
       "      <td>0.994282</td>\n",
       "      <td>0.997890</td>\n",
       "      <td>0.996038</td>\n",
       "      <td>13180</td>\n",
       "    </tr>\n",
       "    <tr>\n",
       "      <th>4</th>\n",
       "      <td>AdaBoostClassifier</td>\n",
       "      <td>0.977330</td>\n",
       "      <td>0.977317</td>\n",
       "      <td>0.976290</td>\n",
       "      <td>0.978346</td>\n",
       "      <td>0.977332</td>\n",
       "      <td>520170</td>\n",
       "      <td>0.976131</td>\n",
       "      <td>0.976311</td>\n",
       "      <td>0.975242</td>\n",
       "      <td>0.977382</td>\n",
       "      <td>0.976123</td>\n",
       "      <td>136940</td>\n",
       "    </tr>\n",
       "  </tbody>\n",
       "</table>\n",
       "</div>"
      ],
      "text/plain": [
       "           Model_Name  Train_Accuracy  Train_F1  Train_Precision  \\\n",
       "0        RandomForest        1.000000  1.000000         1.000000   \n",
       "1    GradientBoosting        0.984773  0.984807         0.981024   \n",
       "2       XGBClassifier        1.000000  1.000000         1.000000   \n",
       "3  CatBoostClassifier        0.999512  0.999511         0.999553   \n",
       "4  AdaBoostClassifier        0.977330  0.977317         0.976290   \n",
       "\n",
       "   Train_Recall  Train_ROC_AUC  Train_Cost  Test_Accuracy   Test_F1  \\\n",
       "0      1.000000       1.000000           0       0.994818  0.994863   \n",
       "1      0.988620       0.984780      276490       0.983903  0.984063   \n",
       "2      1.000000       1.000000           0       0.997239  0.997261   \n",
       "3      0.999468       0.999511       12710       0.996050  0.996083   \n",
       "4      0.978346       0.977332      520170       0.976131  0.976311   \n",
       "\n",
       "   Test_Precision  Test_Recall  Test_ROC_AUC  Test_Cost  \n",
       "0        0.992773     0.996962      0.994804      18860  \n",
       "1        0.980640     0.987509      0.983880      76310  \n",
       "2        0.995709     0.998818      0.997229       7510  \n",
       "3        0.994282     0.997890      0.996038      13180  \n",
       "4        0.975242     0.977382      0.976123     136940  "
      ]
     },
     "execution_count": 321,
     "metadata": {},
     "output_type": "execute_result"
    }
   ],
   "source": [
    "model_eval(X_train_blanced, y_train_blanced,models)"
   ]
  }
 ],
 "metadata": {
  "kernelspec": {
   "display_name": "Python 3",
   "language": "python",
   "name": "python3"
  },
  "language_info": {
   "codemirror_mode": {
    "name": "ipython",
    "version": 3
   },
   "file_extension": ".py",
   "mimetype": "text/x-python",
   "name": "python",
   "nbconvert_exporter": "python",
   "pygments_lexer": "ipython3",
   "version": "3.11.7"
  }
 },
 "nbformat": 4,
 "nbformat_minor": 2
}
