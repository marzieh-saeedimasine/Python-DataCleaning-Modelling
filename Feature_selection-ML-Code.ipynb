{
 "cells": [
  {
   "cell_type": "code",
   "execution_count": 70,
   "metadata": {},
   "outputs": [
    {
     "name": "stdout",
     "output_type": "stream",
     "text": [
      "[0.05651    0.         0.62760699 0.315883  ]\n",
      "(150, 2)\n"
     ]
    }
   ],
   "source": [
    "##feature Selection: \n",
    "from sklearn.feature_selection import VarianceThreshold,SelectKBest,chi2,SelectFromModel\n",
    "from sklearn.datasets import load_iris\n",
    "from sklearn.tree import ExtraTreeClassifier\n",
    "from sklearn.svm import LinearSVC\n",
    "\n",
    "\n",
    "##VarianceThreshold removes all zero-variance features, i.e. features that have the same value in all samples.\n",
    "X = [[0, 0, 1], [0, 1, 1], [1, 0, 1], [0, 1, 1], [0, 1, 1], [0, 1, 1]];\n",
    "t=0.8*(1-0.8)\n",
    "sel=VarianceThreshold(threshold=t)\n",
    "X_new=sel.fit_transform(X)\n",
    "\n",
    "\n",
    "\n",
    "##iris dataset Select K Best\n",
    "X=load_iris().data\n",
    "Y=load_iris().target\n",
    "sel=SelectKBest(chi2, k=2)\n",
    "X_new=sel.fit_transform(X,Y)\n",
    "\n",
    "\n",
    "\n",
    "model=ExtraTreeClassifier(max_depth=3, criterion='gini',random_state=1)\n",
    "model.fit(X,Y)\n",
    "print(model.feature_importances_)\n",
    "sel=SelectFromModel(model,prefit=True)\n",
    "X_new=sel.transform(X)\n",
    "\n",
    "\n",
    "model=LinearSVC(C=0.01,penalty='l2')\n",
    "model.fit(X,Y)\n",
    "sel=SelectFromModel(model)\n",
    "X_new=sel.transform(X)\n",
    "print(X_new.shape)"
   ]
  },
  {
   "cell_type": "code",
   "execution_count": null,
   "metadata": {},
   "outputs": [],
   "source": []
  }
 ],
 "metadata": {
  "kernelspec": {
   "display_name": "Python 3",
   "language": "python",
   "name": "python3"
  },
  "language_info": {
   "codemirror_mode": {
    "name": "ipython",
    "version": 3
   },
   "file_extension": ".py",
   "mimetype": "text/x-python",
   "name": "python",
   "nbconvert_exporter": "python",
   "pygments_lexer": "ipython3",
   "version": "3.8.10"
  }
 },
 "nbformat": 4,
 "nbformat_minor": 2
}
